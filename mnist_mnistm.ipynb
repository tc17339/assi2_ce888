{
 "cells": [
  {
   "cell_type": "code",
   "execution_count": null,
   "metadata": {
    "collapsed": false
   },
   "outputs": [],
   "source": [
    "from __future__ import print_function\n",
    "import keras\n",
    "from keras.datasets import mnist\n",
    "from keras.models import Sequential\n",
    "from keras.layers import Dense, Dropout, Flatten\n",
    "from keras.layers import Conv2D, MaxPooling2D\n",
    "from keras import backend as K\n",
    "import pickle as pkl\n",
    "from timeit import default_timer as timer\n"
   ]
  },
  {
   "cell_type": "code",
   "execution_count": null,
   "metadata": {
    "collapsed": true
   },
   "outputs": [],
   "source": [
    "import numpy as np\n",
    "from sklearn.ensemble import ExtraTreesClassifier, RandomForestClassifier\n",
    "from sklearn.tree import DecisionTreeClassifier\n",
    "from sklearn.metrics import accuracy_score, confusion_matrix\n",
    "from keras_helper import NNWeightHelper\n",
    "from snes import SNES\n",
    "import matplotlib.pyplot as plt\n",
    "import matplotlib.cm as cm\n",
    "from tensorflow.examples.tutorials.mnist import input_data"
   ]
  },
  {
   "cell_type": "code",
   "execution_count": null,
   "metadata": {
    "collapsed": true
   },
   "outputs": [],
   "source": [
    "# use just a small sample of the train set to test\n",
    "SAMPLE_SIZE = 1024\n",
    "# how many different sets of weights ask() should return for evaluation\n",
    "POPULATION_SIZE = 10\n",
    "# how many times we will loop over ask()/tell()\n",
    "GENERATIONS = 30"
   ]
  },
  {
   "cell_type": "code",
   "execution_count": null,
   "metadata": {
    "collapsed": true
   },
   "outputs": [],
   "source": [
    "def train_classifier(model, X, y):\n",
    "    X_features = model.predict(X)\n",
    "    #clf = ExtraTreesClassifier(n_estimators=100, n_jobs=4)\n",
    "    clf = RandomForestClassifier(n_estimators=100, n_jobs =4)\n",
    "    #clf = DecisionTreeClassifier()\n",
    "    clf.fit(X_features, y)\n",
    "    y_pred = clf.predict(X_features)\n",
    "    return clf, y_pred\n",
    "\n",
    "\n",
    "def predict_classifier(model, clf, X):\n",
    "    X_features = model.predict(X)\n",
    "    return clf.predict(X_features)"
   ]
  },
  {
   "cell_type": "code",
   "execution_count": null,
   "metadata": {
    "collapsed": false
   },
   "outputs": [],
   "source": [
    "mnist = input_data.read_data_sets('MNIST_data', one_hot=True)\n",
    "\n",
    "mnist_train = (mnist.train.images > 0).reshape(55000, 28, 28, 1).astype(np.uint8) * 255\n",
    "mnist_train = np.concatenate([mnist_train, mnist_train, mnist_train], 3)\n",
    "mnist_test = (mnist.test.images > 0).reshape(10000, 28, 28, 1).astype(np.uint8) * 255\n",
    "mnist_test = np.concatenate([mnist_test, mnist_test, mnist_test], 3)\n",
    "print(mnist_train.shape)"
   ]
  },
  {
   "cell_type": "code",
   "execution_count": null,
   "metadata": {
    "collapsed": false
   },
   "outputs": [],
   "source": [
    "mnistm = pkl.load(open('mnistm_data.pkl',\"rb\"))\n",
    "mnistm_train = mnistm['train']\n",
    "mnistm_test = mnistm['test']\n",
    "mnistm_valid = mnistm['valid']\n",
    "print(mnistm_train.shape)\n",
    "print(mnistm_test.shape)"
   ]
  },
  {
   "cell_type": "code",
   "execution_count": null,
   "metadata": {
    "collapsed": true
   },
   "outputs": [],
   "source": [
    "num_train =27500\n",
    "num_test = 5000\n",
    "combined_train_imgs = np.vstack([mnist_train[:num_train], mnistm_train[:num_train]])\n",
    "combined_train_labels = np.vstack([mnist.train.labels[:num_train], mnist.train.labels[:num_train]])\n",
    "\n",
    "combined_test_imgs = np.vstack([mnist_test[:num_test], mnistm_test[:num_test]])\n",
    "combined_test_labels = np.vstack([mnist.test.labels[:num_test], mnist.test.labels[:num_test]])\n"
   ]
  },
  {
   "cell_type": "code",
   "execution_count": null,
   "metadata": {
    "collapsed": true
   },
   "outputs": [],
   "source": [
    "#produce a domain class labels\n",
    "# to train class labels\n",
    "mnist_train_domain_class = np.zeros((27500,10) , dtype = int) # set zero for source domain\n",
    "mnistm_train_domain_class = np.ones((27500,10), dtype = int) # set one for target domain\n",
    "combined_train_domain_class = np.vstack([mnist_train_domain_class, mnistm_train_domain_class])\n",
    "# test class  for testing domain classcifier\n",
    "mnist_test_domain_class = np.zeros((5000,10), dtype = int)\n",
    "mnistm_test_domain_class = np.ones((5000,10), dtype =int)\n",
    "combined_test_domain_class = np.vstack([mnist_test_domain_class, mnistm_test_domain_class])\n"
   ]
  },
  {
   "cell_type": "code",
   "execution_count": null,
   "metadata": {
    "collapsed": false
   },
   "outputs": [],
   "source": [
    "model = Sequential()\n",
    "model.add(Conv2D(32, kernel_size=(3, 3), input_shape=[28,28,3], activation=\"relu\"))\n",
    "model.add(MaxPooling2D(pool_size=(2, 2)))\n",
    "model.add(Conv2D(32, (3, 3), activation=\"relu\"))\n",
    "model.add(MaxPooling2D(pool_size=(2, 2)))\n",
    "model.add(Conv2D(64, (3, 3),activation=\"relu\"))\n",
    "model.add(MaxPooling2D(pool_size=(2, 2)))\n",
    "model.add(Flatten())\n",
    "model.add(Dense(10, activation='relu'))"
   ]
  },
  {
   "cell_type": "code",
   "execution_count": null,
   "metadata": {
    "collapsed": false
   },
   "outputs": [],
   "source": [
    "model.compile(loss=\"mse\", optimizer=\"adam\")\n",
    "#model.fit(combined_train_imgs, combined_train_labels,\n",
    "    #batch_size=16, epochs=10,\n",
    "    #validation_split =0.2)\n",
    "\n",
    "print(\"compilation is over\")"
   ]
  },
  {
   "cell_type": "code",
   "execution_count": null,
   "metadata": {
    "collapsed": true
   },
   "outputs": [],
   "source": [
    "nnw = NNWeightHelper(model)\n",
    "weights = nnw.get_weights()"
   ]
  },
  {
   "cell_type": "code",
   "execution_count": null,
   "metadata": {
    "collapsed": false
   },
   "outputs": [],
   "source": [
    "def class_classcifier():\n",
    "\tprint(\"Total number of weights to evolve is:\", weights.shape)\n",
    "\n",
    "\tall_examples_indices = list(range(combined_train_imgs.shape[0]))\n",
    "\n",
    "\tclf, _ = train_classifier(model, combined_train_imgs, combined_train_labels)\n",
    "\tprint(\"combined_train_imgs shape is :\", combined_train_imgs.shape)\n",
    "\tprint(\"combined_train_labels shape is :\",combined_train_labels.shape)\n",
    "\ty_pred = predict_classifier(model, clf, combined_test_imgs)\n",
    "\tprint(combined_test_labels.shape, y_pred.shape)\n",
    "\ttest_accuracy = accuracy_score(combined_test_labels, y_pred)\n",
    "\t\n",
    "\tprint('Non-trained NN Test accuracy:', test_accuracy)\n",
    "\tsnes = SNES(weights, 1, POPULATION_SIZE)\n",
    "\t\n",
    "\tfor i in range(0, GENERATIONS):\n",
    "\t\tstart = timer()\n",
    "\t\tasked = snes.ask()\n",
    "\n",
    "        \t# to be provided back to snes\n",
    "\t\ttold = []\n",
    "        \t# use a small number of training samples for speed purposes\n",
    "\t\tsubsample_indices = np.random.choice(all_examples_indices, size=SAMPLE_SIZE, replace=False)\n",
    "        \t# evaluate on another subset\n",
    "\t\tsubsample_indices_valid = np.random.choice(all_examples_indices, size=SAMPLE_SIZE + 1, replace=False)\n",
    "\t\t#subsample_indices_valid  = mnistm_valid\n",
    "        \t# iterate over the population\n",
    "\t\tfor asked_j in asked:\n",
    "         \t\t# set nn weights\n",
    "\t\t\tnnw.set_weights(asked_j)\n",
    "\t\t\t# train the classifer and get back the predictions on the training data\n",
    "\t\t\tclf, _ = train_classifier(model, combined_train_imgs[subsample_indices], combined_train_labels[subsample_indices])\n",
    "\n",
    "\t\t\t# calculate the predictions on a different set\n",
    "\t\t\ty_pred = predict_classifier(model, clf, combined_train_imgs[subsample_indices_valid])\n",
    "\t\t\tscore = accuracy_score(combined_train_labels[subsample_indices_valid], y_pred)\n",
    "\n",
    "\t\t\t# clf, _ = train_classifier(model, x_train, y_train)\n",
    "\t\t\t# y_pred = predict_classifier(model, clf, x_test)\n",
    "\t\t\t# score = accuracy_score(y_test, y_pred)\n",
    "\t\t\t# append to array of values that are to be returned\n",
    "\t\t\ttold.append(score)\n",
    "\n",
    "\t\tsnes.tell(asked, told)\n",
    "\t\tend = timer()\n",
    "\t\tprint(\"It took\", end - start, \"seconds to complete generation\", i + 1)\n",
    "\n",
    "\tnnw.set_weights(snes.center)\n",
    "\n",
    "\tclf, _ = train_classifier(model, combined_train_imgs,combined_train_labels)\n",
    "\ty_pred = predict_classifier(model, clf, combined_test_imgs)\n",
    "\n",
    "\tprint(combined_test_labels.shape, y_pred.shape)\n",
    "\ttest_accuracy = accuracy_score(combined_test_labels, y_pred)\n",
    "\n",
    "\tprint('Test accuracy:', test_accuracy)\n",
    "\tplt.plot(told)\n",
    "\tplt.title(\"loss model\")\n",
    "\tplt.xlabel(\"genaration\")\n",
    "\tplt.ylabel(\"loss_value\")\n",
    "\tplt.legend(\"test\",loc = \"upper left\")\n",
    "\tplt.savefig(\"accuracy_graphic.png\")\n",
    "\tplt.show()\n"
   ]
  },
  {
   "cell_type": "code",
   "execution_count": null,
   "metadata": {
    "collapsed": false
   },
   "outputs": [],
   "source": [
    "if __name__ == '__main__':\n",
    "\t#domain_classcifier()\n",
    "\tclass_classcifier()"
   ]
  },
  {
   "cell_type": "code",
   "execution_count": null,
   "metadata": {
    "collapsed": true
   },
   "outputs": [],
   "source": [
    "def domain_classcifier():\n",
    "\tprint(\"Total number of weights to evolve is:\", weights.shape)\n",
    "\n",
    "\tall_examples_indices = list(range(combined_train_imgs.shape[0]))\n",
    "\n",
    "\tclf, _ = train_classifier(model, combined_train_imgs, combined_train_domain_class)\n",
    "\tprint(\"combined_train_imgs shape is :\", combined_train_imgs.shape)\n",
    "\tprint(\"combined_train_labels shape is :\",combined_train_domain_class.shape)\n",
    "\ty_pred = predict_classifier(model, clf, combined_test_imgs)\n",
    "\tprint(combined_test_domain_class.shape, y_pred.shape)\n",
    "\ttest_accuracy = accuracy_score(combined_test_domain_class, y_pred)\n",
    "\n",
    "\tprint('Non-trained NN Test accuracy:', test_accuracy)\n",
    "\tsnes = SNES(weights, 1, POPULATION_SIZE)\n",
    "\t\n",
    "\tfor i in range(0, GENERATIONS):\n",
    "\t\tstart = timer()\n",
    "\t\tasked = snes.ask()\n",
    "\n",
    "        \t# to be provided back to snes\n",
    "\t\ttold = []\n",
    "        \t# use a small number of training samples for speed purposes\n",
    "\t\tsubsample_indices = np.random.choice(all_examples_indices, size=SAMPLE_SIZE, replace=False)\n",
    "        \t# evaluate on another subset\n",
    "\t\tsubsample_indices_valid = np.random.choice(all_examples_indices, size=SAMPLE_SIZE + 1, replace=False)\n",
    "\t\t#subsample_indices_valid  = mnistm_valid\n",
    "        \t# iterate over the population\n",
    "\t\tfor asked_j in asked:\n",
    "         \t\t# set nn weights\n",
    "\t\t\tnnw.set_weights(asked_j)\n",
    "\t\t\t# train the classifer and get back the predictions on the training data\n",
    "\t\t\tclf, _ = train_classifier(model, combined_train_imgs[subsample_indices], combined_train_domain_class[subsample_indices])\n",
    "\n",
    "\t\t\t# calculate the predictions on a different set\n",
    "\t\t\ty_pred = predict_classifier(model, clf, combined_train_imgs[subsample_indices_valid])\n",
    "\t\t\tscore = accuracy_score(combined_train_domain_class[subsample_indices_valid], y_pred)\n",
    "\n",
    "\t\t\t#clf, _ = train_classifier(model, combined_train_imgs, combined_train_domain_class)\n",
    "\t\t\t#y_pred = predict_classifier(model, clf, combined_test_imgs)\n",
    "\t\t\t#score = accuracy_score(combined_test_domain_class, y_pred)\n",
    "\t\t\t# append to array of values that are to be returned\n",
    "\t\t\ttold.append(score)\n",
    "\n",
    "\t\tsnes.tell(asked, told)\n",
    "\t\tend = timer()\n",
    "\t\tprint(\"It took\", end - start, \"seconds to complete generation\", i + 1)\n",
    "\n",
    "\tnnw.set_weights(snes.center)\n",
    "\n",
    "\tclf, _ = train_classifier(model, combined_train_imgs,combined_train_domain_class)\n",
    "\ty_pred = predict_classifier(model, clf, combined_test_imgs)\n",
    "\n",
    "\tprint(combined_test_domain_class.shape, y_pred.shape)\n",
    "\ttest_accuracy = accuracy_score(combined_test_domain_class, y_pred)\n",
    "\tprint('Test accuracy:', test_accuracy)\n",
    "\tplt.plot(told)\n",
    "\tplt.title(\"loss model\")\n",
    "\tplt.xlabel(\"genaration\")\n",
    "\tplt.ylabel(\"loss_value\")\n",
    "\tplt.legend(\"test\",loc = \"upper left\")\n",
    "\tplt.savefig(\"accuracy_domain_graphic.png\")\n",
    "\tplt.show()\n"
   ]
  },
  {
   "cell_type": "code",
   "execution_count": null,
   "metadata": {
    "collapsed": false
   },
   "outputs": [],
   "source": [
    "if __name__ == '__main__':\n",
    "\tdomain_classcifier()\n"
   ]
  },
  {
   "cell_type": "code",
   "execution_count": null,
   "metadata": {
    "collapsed": true
   },
   "outputs": [],
   "source": []
  }
 ],
 "metadata": {
  "kernelspec": {
   "display_name": "Python 3",
   "language": "python",
   "name": "python3"
  },
  "language_info": {
   "codemirror_mode": {
    "name": "ipython",
    "version": 3
   },
   "file_extension": ".py",
   "mimetype": "text/x-python",
   "name": "python",
   "nbconvert_exporter": "python",
   "pygments_lexer": "ipython3",
   "version": "3.6.3"
  }
 },
 "nbformat": 4,
 "nbformat_minor": 2
}
