{
 "cells": [
  {
   "cell_type": "code",
   "execution_count": 1,
   "metadata": {
    "collapsed": false
   },
   "outputs": [
    {
     "name": "stderr",
     "output_type": "stream",
     "text": [
      "Using TensorFlow backend.\n"
     ]
    }
   ],
   "source": [
    "from __future__ import print_function\n",
    "import keras\n",
    "from keras.datasets import mnist\n",
    "from keras.models import Sequential\n",
    "from keras.layers import Dense, Dropout, Flatten\n",
    "from keras.layers import Conv2D, MaxPooling2D, Conv3D, MaxPooling3D\n",
    "from keras import backend as K\n",
    "import pickle as pkl\n",
    "from timeit import default_timer as timer\n",
    "\n",
    "import numpy as np\n",
    "from sklearn.ensemble import ExtraTreesClassifier\n",
    "from sklearn.tree import DecisionTreeClassifier\n",
    "from sklearn.metrics import accuracy_score, confusion_matrix\n",
    "from keras_helper import NNWeightHelper\n",
    "from snes import SNES\n",
    "import matplotlib.pyplot as plt\n",
    "import matplotlib.cm as cm"
   ]
  },
  {
   "cell_type": "code",
   "execution_count": 2,
   "metadata": {
    "collapsed": true
   },
   "outputs": [],
   "source": [
    "SAMPLE_SIZE = 1024\n",
    "POPULATION_SIZE = 10\n",
    "GENERATIONS = 30"
   ]
  },
  {
   "cell_type": "code",
   "execution_count": 3,
   "metadata": {
    "collapsed": true
   },
   "outputs": [],
   "source": [
    "def train_classifier(model, X, y):\n",
    "    X_features = model.predict(X)\n",
    "    clf = ExtraTreesClassifier(n_estimators=100, n_jobs=4)\n",
    "    #clf = DecisionTreeClassifier()\n",
    "\n",
    "    clf.fit(X_features, y)\n",
    "    y_pred = clf.predict(X_features)\n",
    "    return clf, y_pred\n",
    "\n",
    "\n",
    "def predict_classifier(model, clf, X):\n",
    "    X_features = model.predict(X)\n",
    "    return clf.predict(X_features)"
   ]
  },
  {
   "cell_type": "code",
   "execution_count": 5,
   "metadata": {
    "collapsed": true
   },
   "outputs": [],
   "source": [
    "img_rows, img_cols = 28, 28\n",
    "num_classes = 10"
   ]
  },
  {
   "cell_type": "code",
   "execution_count": 6,
   "metadata": {
    "collapsed": true
   },
   "outputs": [],
   "source": [
    "(x_train, y_train), (x_test, y_test) = mnist.load_data()\n",
    "mnistm = pkl.load(open('mnistm_data.pkl', 'rb'))\n",
    "mnistm_train = mnistm['train']\n",
    "mnistm_test = mnistm['test']\n",
    "mnistm_valid = mnistm['valid']\n",
    "\n",
    "mnistm_train = mnistm_train.reshape(55000*3,28,28,1)\n",
    "mnistm_valid = mnistm_valid.reshape(5000*3,28,28,1)\n",
    "mnistm_test = mnistm_test.reshape(10000*3,28,28,1)"
   ]
  },
  {
   "cell_type": "code",
   "execution_count": 7,
   "metadata": {
    "collapsed": false
   },
   "outputs": [
    {
     "name": "stdout",
     "output_type": "stream",
     "text": [
      "mnistm_train shape: (165000, 28, 28, 1)\n",
      "165000 train samples\n",
      "30000 test samples\n"
     ]
    }
   ],
   "source": [
    "input_shape = (img_rows, img_cols, 1)\n",
    "\n",
    "b= np.zeros((165000-60000), dtype = int)\n",
    "y_train = np.concatenate((y_train,b), axis=0)\n",
    "\n",
    "c = np.zeros((20000), dtype = int)\n",
    "y_test = np.concatenate((y_test,c), axis=0)\n",
    "\n",
    "mnistm_train = mnistm_train.astype('float32')\n",
    "mnistm_test = mnistm_test.astype('float32')\n",
    "mnistm_valid = mnistm_valid.astype('float32')\n",
    "mnistm_train /= 255\n",
    "mnistm_test /= 255\n",
    "mnistm_valid /= 255\n",
    "\n",
    "print('mnistm_train shape:', mnistm_train.shape)\n",
    "print(mnistm_train.shape[0], 'train samples')\n",
    "print(mnistm_test.shape[0], 'test samples')\n"
   ]
  },
  {
   "cell_type": "code",
   "execution_count": 8,
   "metadata": {
    "collapsed": false
   },
   "outputs": [
    {
     "name": "stdout",
     "output_type": "stream",
     "text": [
      "compilation is over\n"
     ]
    }
   ],
   "source": [
    "model = Sequential()\n",
    "model.add(Conv2D(32, kernel_size=(3, 3),\n",
    "                 activation='relu',\n",
    "                 input_shape=input_shape))\n",
    "# model.add(Conv2D(64, (3, 3), activation='relu'))\n",
    "model.add(MaxPooling2D(pool_size=(2, 2)))\n",
    "model.add(Flatten())\n",
    "model.add(Dense(6, activation='relu'))\n",
    "#model.summary()\n",
    "\n",
    "# this is irrelevant for what we want to achieve\n",
    "model.compile(loss=\"mse\", optimizer=\"adam\")\n",
    "\n",
    "print(\"compilation is over\")\n",
    "\n",
    "nnw = NNWeightHelper(model)\n",
    "weights = nnw.get_weights()\n"
   ]
  },
  {
   "cell_type": "code",
   "execution_count": 9,
   "metadata": {
    "collapsed": false
   },
   "outputs": [
    {
     "name": "stdout",
     "output_type": "stream",
     "text": [
      "Total number of weights to evolve is: (32774,)\n",
      "mnistm_train shape is : (165000, 28, 28, 1)\n",
      "y_train shape is : (165000,)\n",
      "(30000,) (30000,)\n",
      "Non-trained NN Test accuracy: 0.5560333333333334\n",
      "Step 1.0 : 0.6302439024390244 best: 0.6302439024390244 10\n",
      "It took 7.801964593003504 seconds to complete generation 1\n",
      "Step 2.0 : 0.6526829268292683 best: 0.6526829268292683 10\n",
      "It took 7.419871001999127 seconds to complete generation 2\n",
      "Step 3.0 : 0.6575609756097561 best: 0.6575609756097561 10\n",
      "It took 7.594755708996672 seconds to complete generation 3\n",
      "Step 4.0 : 0.6663414634146342 best: 0.6663414634146342 10\n",
      "It took 7.678980071999831 seconds to complete generation 4\n",
      "Step 5.0 : 0.6643902439024391 best: 0.6663414634146342 10\n",
      "It took 7.816994023000007 seconds to complete generation 5\n",
      "Step 6.0 : 0.6780487804878049 best: 0.6780487804878049 10\n",
      "It took 8.723322316000122 seconds to complete generation 6\n",
      "Step 7.0 : 0.6585365853658537 best: 0.6780487804878049 10\n",
      "It took 7.964474264997989 seconds to complete generation 7\n",
      "Step 8.0 : 0.6692682926829269 best: 0.6780487804878049 10\n",
      "It took 7.685185175003426 seconds to complete generation 8\n",
      "Step 9.0 : 0.6936585365853658 best: 0.6936585365853658 10\n",
      "It took 7.493363818000944 seconds to complete generation 9\n",
      "Step 10.0 : 0.6780487804878049 best: 0.6936585365853658 10\n",
      "It took 7.640469468002266 seconds to complete generation 10\n",
      "Step 11.0 : 0.6663414634146342 best: 0.6936585365853658 10\n",
      "It took 7.357552861998556 seconds to complete generation 11\n",
      "Step 12.0 : 0.6936585365853658 best: 0.6936585365853658 10\n",
      "It took 7.470382617000723 seconds to complete generation 12\n",
      "Step 13.0 : 0.6604878048780488 best: 0.6936585365853658 10\n",
      "It took 7.898216651999974 seconds to complete generation 13\n",
      "Step 14.0 : 0.6741463414634147 best: 0.6936585365853658 10\n",
      "It took 7.604338206998364 seconds to complete generation 14\n",
      "Step 15.0 : 0.6839024390243903 best: 0.6936585365853658 10\n",
      "It took 7.871676397997362 seconds to complete generation 15\n",
      "Step 16.0 : 0.6585365853658537 best: 0.6936585365853658 10\n",
      "It took 8.237013038997247 seconds to complete generation 16\n",
      "Step 17.0 : 0.6653658536585366 best: 0.6936585365853658 10\n",
      "It took 8.309856213003513 seconds to complete generation 17\n",
      "Step 18.0 : 0.6926829268292682 best: 0.6936585365853658 10\n",
      "It took 7.79593070899864 seconds to complete generation 18\n",
      "Step 19.0 : 0.6751219512195122 best: 0.6936585365853658 10\n",
      "It took 7.514282536001701 seconds to complete generation 19\n",
      "Step 20.0 : 0.6448780487804878 best: 0.6936585365853658 10\n",
      "It took 7.644368080000277 seconds to complete generation 20\n",
      "Step 21.0 : 0.6634146341463415 best: 0.6936585365853658 10\n",
      "It took 7.430735293994076 seconds to complete generation 21\n",
      "Step 22.0 : 0.6809756097560976 best: 0.6936585365853658 10\n",
      "It took 7.460723168995173 seconds to complete generation 22\n",
      "Step 23.0 : 0.6897560975609756 best: 0.6936585365853658 10\n",
      "It took 7.667879043001449 seconds to complete generation 23\n",
      "Step 24.0 : 0.6907317073170731 best: 0.6936585365853658 10\n",
      "It took 8.122529712003598 seconds to complete generation 24\n",
      "Step 25.0 : 0.686829268292683 best: 0.6936585365853658 10\n",
      "It took 8.149789346003672 seconds to complete generation 25\n",
      "Step 26.0 : 0.6760975609756098 best: 0.6936585365853658 10\n",
      "It took 8.397171079996042 seconds to complete generation 26\n",
      "Step 27.0 : 0.6692682926829269 best: 0.6936585365853658 10\n",
      "It took 8.37565093399462 seconds to complete generation 27\n",
      "Step 28.0 : 0.6663414634146342 best: 0.6936585365853658 10\n",
      "It took 7.516759345002356 seconds to complete generation 28\n",
      "Step 29.0 : 0.6692682926829269 best: 0.6936585365853658 10\n",
      "It took 7.127109831999405 seconds to complete generation 29\n",
      "Step 30.0 : 0.6604878048780488 best: 0.6936585365853658 10\n",
      "It took 7.841576940998493 seconds to complete generation 30\n",
      "(30000,) (30000,)\n",
      "Test accuracy: 0.6992\n"
     ]
    },
    {
     "data": {
      "image/png": "[encoded data removed]",
      "text/plain": [
       "<Figure size 288x288 with 2 Axes>"
      ]
     },
     "metadata": {},
     "output_type": "display_data"
    }
   ],
   "source": [
    "def main():\n",
    "\tprint(\"Total number of weights to evolve is:\", weights.shape)\n",
    "\n",
    "\tall_examples_indices = list(range(mnistm_train.shape[0]))\n",
    "\n",
    "\tclf, _ = train_classifier(model, mnistm_train, y_train)\n",
    "\tprint(\"mnistm_train shape is :\", mnistm_train.shape)\n",
    "\tprint(\"y_train shape is :\",y_train.shape)\n",
    "\ty_pred = predict_classifier(model, clf, mnistm_test)\n",
    "\tprint(y_test.shape, y_pred.shape)\n",
    "\ttest_accuracy = accuracy_score(y_test, y_pred)\n",
    "\n",
    "\tprint('Non-trained NN Test accuracy:', test_accuracy)\n",
    "\tsnes = SNES(weights, 1, POPULATION_SIZE)\n",
    "\t\n",
    "\tfor i in range(0, GENERATIONS):\n",
    "\t\tstart = timer()\n",
    "\t\tasked = snes.ask()\n",
    "\n",
    "        \t# to be provided back to snes\n",
    "\t\ttold = []\n",
    "        \t# use a small number of training samples for speed purposes\n",
    "\t\tsubsample_indices = np.random.choice(all_examples_indices, size=SAMPLE_SIZE, replace=False)\n",
    "        \t# evaluate on another subset\n",
    "\t\tsubsample_indices_valid = np.random.choice(all_examples_indices, size=SAMPLE_SIZE + 1, replace=False)\n",
    "\t\t#subsample_indices_valid  = mnistm_valid\n",
    "        \t# iterate over the population\n",
    "\t\tfor asked_j in asked:\n",
    "         \t\t# set nn weights\n",
    "\t\t\tnnw.set_weights(asked_j)\n",
    "\t\t\t# train the classifer and get back the predictions on the training data\n",
    "\t\t\tclf, _ = train_classifier(model, mnistm_train[subsample_indices], y_train[subsample_indices])\n",
    "\n",
    "\t\t\t# calculate the predictions on a different set\n",
    "\t\t\ty_pred = predict_classifier(model, clf, mnistm_train[subsample_indices_valid])\n",
    "\t\t\tscore = accuracy_score(y_train[subsample_indices_valid], y_pred)\n",
    "\n",
    "\t\t\t# clf, _ = train_classifier(model, x_train, y_train)\n",
    "\t\t\t# y_pred = predict_classifier(model, clf, x_test)\n",
    "\t\t\t# score = accuracy_score(y_test, y_pred)\n",
    "\t\t\t# append to array of values that are to be returned\n",
    "\t\t\ttold.append(score)\n",
    "\n",
    "\t\tsnes.tell(asked, told)\n",
    "\t\tend = timer()\n",
    "\t\tprint(\"It took\", end - start, \"seconds to complete generation\", i + 1)\n",
    "\n",
    "\tnnw.set_weights(snes.center)\n",
    "\n",
    "\tclf, _ = train_classifier(model, mnistm_train, y_train)\n",
    "\ty_pred = predict_classifier(model, clf, mnistm_test)\n",
    "\n",
    "\tprint(y_test.shape, y_pred.shape)\n",
    "\ttest_accuracy = accuracy_score(y_test, y_pred)\n",
    "\n",
    "\tprint('Test accuracy:', test_accuracy)\n",
    "\tcm = confusion_matrix(y_test, y_pred)\n",
    "\tplt.matshow(cm)\n",
    "\tplt.title(\"confusion matrix\")\n",
    "\tplt.colorbar()\n",
    "\tplt.ylabel(\"True label\")\n",
    "\tplt.xlabel(\"Predicted label\")\n",
    "\tplt.show()\n",
    "\t\n",
    "\t\n",
    "\n",
    "\n",
    "if __name__ == '__main__':\n",
    "\tmain()"
   ]
  },
  {
   "cell_type": "code",
   "execution_count": 12,
   "metadata": {
    "collapsed": false
   },
   "outputs": [
    {
     "ename": "NameError",
     "evalue": "name 'clf' is not defined",
     "output_type": "error",
     "traceback": [
      "\u001b[0;31m---------------------------------------------------------------------------\u001b[0m",
      "\u001b[0;31mNameError\u001b[0m                                 Traceback (most recent call last)",
      "\u001b[0;32m<ipython-input-12-2b2b39fcc617>\u001b[0m in \u001b[0;36m<module>\u001b[0;34m()\u001b[0m\n\u001b[0;32m----> 1\u001b[0;31m \u001b[0mclf\u001b[0m\u001b[0;34m\u001b[0m\u001b[0m\n\u001b[0m",
      "\u001b[0;31mNameError\u001b[0m: name 'clf' is not defined"
     ]
    }
   ],
   "source": []
  },
  {
   "cell_type": "code",
   "execution_count": null,
   "metadata": {
    "collapsed": true
   },
   "outputs": [],
   "source": []
  },
  {
   "cell_type": "code",
   "execution_count": null,
   "metadata": {
    "collapsed": true
   },
   "outputs": [],
   "source": []
  },
  {
   "cell_type": "code",
   "execution_count": null,
   "metadata": {
    "collapsed": true
   },
   "outputs": [],
   "source": []
  },
  {
   "cell_type": "code",
   "execution_count": null,
   "metadata": {
    "collapsed": true
   },
   "outputs": [],
   "source": []
  },
  {
   "cell_type": "code",
   "execution_count": null,
   "metadata": {
    "collapsed": true
   },
   "outputs": [],
   "source": []
  },
  {
   "cell_type": "code",
   "execution_count": null,
   "metadata": {
    "collapsed": true
   },
   "outputs": [],
   "source": []
  },
  {
   "cell_type": "code",
   "execution_count": null,
   "metadata": {
    "collapsed": true
   },
   "outputs": [],
   "source": []
  }
 ],
 "metadata": {
  "kernelspec": {
   "display_name": "Python 3",
   "language": "python",
   "name": "python3"
  },
  "language_info": {
   "codemirror_mode": {
    "name": "ipython",
    "version": 3
   },
   "file_extension": ".py",
   "mimetype": "text/x-python",
   "name": "python",
   "nbconvert_exporter": "python",
   "pygments_lexer": "ipython3",
   "version": "3.6.3"
  }
 },
 "nbformat": 4,
 "nbformat_minor": 2
}
