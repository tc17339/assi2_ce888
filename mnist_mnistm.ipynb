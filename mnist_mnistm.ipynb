{
 "cells": [
  {
   "cell_type": "code",
   "execution_count": 1,
   "metadata": {
    "collapsed": false
   },
   "outputs": [
    {
     "name": "stderr",
     "output_type": "stream",
     "text": [
      "Using TensorFlow backend.\n"
     ]
    }
   ],
   "source": [
    "from __future__ import print_function\n",
    "import keras\n",
    "from keras.datasets import mnist\n",
    "from keras.models import Sequential\n",
    "from keras.layers import Dense, Dropout, Flatten\n",
    "from keras.layers import Conv2D, MaxPooling2D\n",
    "from keras import backend as K\n",
    "import pickle as pkl\n",
    "from timeit import default_timer as timer\n"
   ]
  },
  {
   "cell_type": "code",
   "execution_count": 2,
   "metadata": {
    "collapsed": true
   },
   "outputs": [],
   "source": [
    "import numpy as np\n",
    "from sklearn.ensemble import ExtraTreesClassifier, RandomForestClassifier\n",
    "from sklearn.tree import DecisionTreeClassifier\n",
    "from sklearn.metrics import accuracy_score, confusion_matrix\n",
    "from keras_helper import NNWeightHelper\n",
    "from snes import SNES\n",
    "import matplotlib.pyplot as plt\n",
    "import matplotlib.cm as cm\n",
    "from tensorflow.examples.tutorials.mnist import input_data"
   ]
  },
  {
   "cell_type": "code",
   "execution_count": 4,
   "metadata": {
    "collapsed": true
   },
   "outputs": [],
   "source": [
    "# use just a small sample of the train set to test\n",
    "SAMPLE_SIZE = 1024\n",
    "# how many different sets of weights ask() should return for evaluation\n",
    "POPULATION_SIZE = 10\n",
    "# how many times we will loop over ask()/tell()\n",
    "GENERATIONS = 30"
   ]
  },
  {
   "cell_type": "code",
   "execution_count": 5,
   "metadata": {
    "collapsed": true
   },
   "outputs": [],
   "source": [
    "def train_classifier(model, X, y):\n",
    "    X_features = model.predict(X)\n",
    "    #clf = ExtraTreesClassifier(n_estimators=100, n_jobs=4)\n",
    "    clf = RandomForestClassifier(n_estimators=100, n_jobs =4)\n",
    "    #clf = DecisionTreeClassifier()\n",
    "    clf.fit(X_features, y)\n",
    "    y_pred = clf.predict(X_features)\n",
    "    return clf, y_pred\n",
    "\n",
    "\n",
    "def predict_classifier(model, clf, X):\n",
    "    X_features = model.predict(X)\n",
    "    return clf.predict(X_features)"
   ]
  },
  {
   "cell_type": "code",
   "execution_count": 6,
   "metadata": {
    "collapsed": false
   },
   "outputs": [
    {
     "name": "stdout",
     "output_type": "stream",
     "text": [
      "Extracting MNIST_data\\train-images-idx3-ubyte.gz\n",
      "Extracting MNIST_data\\train-labels-idx1-ubyte.gz\n",
      "Extracting MNIST_data\\t10k-images-idx3-ubyte.gz\n",
      "Extracting MNIST_data\\t10k-labels-idx1-ubyte.gz\n",
      "(55000, 28, 28, 3)\n"
     ]
    }
   ],
   "source": [
    "mnist = input_data.read_data_sets('MNIST_data', one_hot=True)\n",
    "\n",
    "mnist_train = (mnist.train.images > 0).reshape(55000, 28, 28, 1).astype(np.uint8) * 255\n",
    "mnist_train = np.concatenate([mnist_train, mnist_train, mnist_train], 3)\n",
    "mnist_test = (mnist.test.images > 0).reshape(10000, 28, 28, 1).astype(np.uint8) * 255\n",
    "mnist_test = np.concatenate([mnist_test, mnist_test, mnist_test], 3)\n",
    "print(mnist_train.shape)"
   ]
  },
  {
   "cell_type": "code",
   "execution_count": 7,
   "metadata": {
    "collapsed": false
   },
   "outputs": [
    {
     "name": "stdout",
     "output_type": "stream",
     "text": [
      "(55000, 28, 28, 3)\n",
      "(10000, 28, 28, 3)\n"
     ]
    }
   ],
   "source": [
    "mnistm = pkl.load(open('mnistm_data.pkl',\"rb\"))\n",
    "mnistm_train = mnistm['train']\n",
    "mnistm_test = mnistm['test']\n",
    "mnistm_valid = mnistm['valid']\n",
    "print(mnistm_train.shape)\n",
    "print(mnistm_test.shape)"
   ]
  },
  {
   "cell_type": "code",
   "execution_count": 8,
   "metadata": {
    "collapsed": true
   },
   "outputs": [],
   "source": [
    "num_train =27500\n",
    "num_test = 5000\n",
    "# combine the mnist and mnist-m\n",
    "combined_train_imgs = np.vstack([mnist_train[:num_train], mnistm_train[:num_train]])\n",
    "combined_train_labels = np.vstack([mnist.train.labels[:num_train], mnist.train.labels[:num_train]])\n",
    "\n",
    "combined_test_imgs = np.vstack([mnist_test[:num_test], mnistm_test[:num_test]])\n",
    "combined_test_labels = np.vstack([mnist.test.labels[:num_test], mnist.test.labels[:num_test]])\n"
   ]
  },
  {
   "cell_type": "code",
   "execution_count": 11,
   "metadata": {
    "collapsed": true
   },
   "outputs": [],
   "source": [
    "\n",
    "mnist_train_domain_class = np.zeros((27500,10) , dtype = int) # set zero for source domain\n",
    "mnistm_train_domain_class = np.ones((27500,10), dtype = int) # set one for target domain\n",
    "combined_train_domain_class = np.vstack([mnist_train_domain_class, mnistm_train_domain_class])\n",
    "\n",
    "mnist_test_domain_class = np.zeros((5000,10), dtype = int)\n",
    "mnistm_test_domain_class = np.ones((5000,10), dtype =int)\n",
    "combined_test_domain_class = np.vstack([mnist_test_domain_class, mnistm_test_domain_class])\n"
   ]
  },
  {
   "cell_type": "code",
   "execution_count": 9,
   "metadata": {
    "collapsed": true
   },
   "outputs": [],
   "source": [
    "# cnn model\n",
    "model = Sequential()\n",
    "model.add(Conv2D(32, kernel_size=(3, 3), input_shape=[28,28,3], activation=\"relu\"))\n",
    "model.add(MaxPooling2D(pool_size=(2, 2)))\n",
    "model.add(Conv2D(32, (3, 3), activation=\"relu\"))\n",
    "model.add(MaxPooling2D(pool_size=(2, 2)))\n",
    "model.add(Conv2D(64, (3, 3),activation=\"relu\"))\n",
    "model.add(MaxPooling2D(pool_size=(2, 2)))\n",
    "model.add(Flatten())\n",
    "model.add(Dense(10, activation='relu'))"
   ]
  },
  {
   "cell_type": "code",
   "execution_count": 10,
   "metadata": {
    "collapsed": false
   },
   "outputs": [
    {
     "name": "stdout",
     "output_type": "stream",
     "text": [
      "_________________________________________________________________\n",
      "Layer (type)                 Output Shape              Param #   \n",
      "=================================================================\n",
      "conv2d_1 (Conv2D)            (None, 26, 26, 32)        896       \n",
      "_________________________________________________________________\n",
      "max_pooling2d_1 (MaxPooling2 (None, 13, 13, 32)        0         \n",
      "_________________________________________________________________\n",
      "conv2d_2 (Conv2D)            (None, 11, 11, 32)        9248      \n",
      "_________________________________________________________________\n",
      "max_pooling2d_2 (MaxPooling2 (None, 5, 5, 32)          0         \n",
      "_________________________________________________________________\n",
      "conv2d_3 (Conv2D)            (None, 3, 3, 64)          18496     \n",
      "_________________________________________________________________\n",
      "max_pooling2d_3 (MaxPooling2 (None, 1, 1, 64)          0         \n",
      "_________________________________________________________________\n",
      "flatten_1 (Flatten)          (None, 64)                0         \n",
      "_________________________________________________________________\n",
      "dense_1 (Dense)              (None, 10)                650       \n",
      "=================================================================\n",
      "Total params: 29,290\n",
      "Trainable params: 29,290\n",
      "Non-trainable params: 0\n",
      "_________________________________________________________________\n",
      "compilation is over\n"
     ]
    }
   ],
   "source": [
    "model.summary()\n",
    "model.compile(loss=\"mse\", optimizer=\"adam\")\n",
    "#model.fit(combined_train_imgs, combined_train_labels,\n",
    "    #batch_size=16, epochs=10,\n",
    "    #validation_split =0.2)\n",
    "\n",
    "print(\"compilation is over\")"
   ]
  },
  {
   "cell_type": "code",
   "execution_count": 12,
   "metadata": {
    "collapsed": true
   },
   "outputs": [],
   "source": [
    "nnw = NNWeightHelper(model)\n",
    "weights = nnw.get_weights()"
   ]
  },
  {
   "cell_type": "code",
   "execution_count": 14,
   "metadata": {
    "collapsed": true
   },
   "outputs": [],
   "source": [
    "#`````````````````````````````````````````````````````````````````````````````\n",
    "\n",
    "# this method comes from my teacher :'Spyridon Samothrakis ssamot@essex.ac.uk'\n",
    "\n",
    "#`````````````````````````````````````````````````````````````````````````````\n",
    "def class_classcifier():\n",
    "\tprint(\"Total number of weights to evolve is:\", weights.shape)\n",
    "\n",
    "\tall_examples_indices = list(range(combined_train_imgs.shape[0]))\n",
    "\n",
    "\tclf, _ = train_classifier(model, combined_train_imgs, combined_train_labels)\n",
    "\tprint(\"combined_train_imgs shape is :\", combined_train_imgs.shape)\n",
    "\tprint(\"combined_train_labels shape is :\",combined_train_labels.shape)\n",
    "\ty_pred = predict_classifier(model, clf, combined_test_imgs)\n",
    "\tprint(combined_test_labels.shape, y_pred.shape)\n",
    "\ttest_accuracy = accuracy_score(combined_test_labels, y_pred)\n",
    "\t\n",
    "\tprint('Non-trained NN Test accuracy:', test_accuracy)\n",
    "\tsnes = SNES(weights, 1, POPULATION_SIZE)\n",
    "\t\n",
    "\tfor i in range(0, GENERATIONS):\n",
    "\t\tstart = timer()\n",
    "\t\tasked = snes.ask()\n",
    "\n",
    "        \t# to be provided back to snes\n",
    "\t\ttold = []\n",
    "        \t# use a small number of training samples for speed purposes\n",
    "\t\tsubsample_indices = np.random.choice(all_examples_indices, size=SAMPLE_SIZE, replace=False)\n",
    "        \t# evaluate on another subset\n",
    "\t\tsubsample_indices_valid = np.random.choice(all_examples_indices, size=SAMPLE_SIZE + 1, replace=False)\n",
    "\t\t#subsample_indices_valid  = mnistm_valid\n",
    "        \t# iterate over the population\n",
    "\t\tfor asked_j in asked:\n",
    "         \t\t# set nn weights\n",
    "\t\t\tnnw.set_weights(asked_j)\n",
    "\t\t\t# train the classifer and get back the predictions on the training data\n",
    "\t\t\tclf, _ = train_classifier(model, combined_train_imgs[subsample_indices], combined_train_labels[subsample_indices])\n",
    "\n",
    "\t\t\t# calculate the predictions on a different set\n",
    "\t\t\ty_pred = predict_classifier(model, clf, combined_train_imgs[subsample_indices_valid])\n",
    "\t\t\tscore = accuracy_score(combined_train_labels[subsample_indices_valid], y_pred)\n",
    "\n",
    "\t\t\t# clf, _ = train_classifier(model, x_train, y_train)\n",
    "\t\t\t# y_pred = predict_classifier(model, clf, x_test)\n",
    "\t\t\t# score = accuracy_score(y_test, y_pred)\n",
    "\t\t\t# append to array of values that are to be returned\n",
    "\t\t\ttold.append(score)\n",
    "\n",
    "\t\tsnes.tell(asked, told)\n",
    "\t\tend = timer()\n",
    "\t\tprint(\"It took\", end - start, \"seconds to complete generation\", i + 1)\n",
    "\n",
    "\tnnw.set_weights(snes.center)\n",
    "\n",
    "\tclf, _ = train_classifier(model, combined_train_imgs,combined_train_labels)\n",
    "\ty_pred = predict_classifier(model, clf, combined_test_imgs)\n",
    "\n",
    "\tprint(combined_test_labels.shape, y_pred.shape)\n",
    "\ttest_accuracy = accuracy_score(combined_test_labels, y_pred)\n",
    "\n",
    "\tprint('Test accuracy:', test_accuracy)\n",
    "\tplt.plot(told)\n",
    "\tplt.title(\"loss model\")\n",
    "\tplt.xlabel(\"genaration\")\n",
    "\tplt.ylabel(\"loss_value\")\n",
    "\tplt.legend(\"test\",loc = \"upper left\")\n",
    "\tplt.savefig(\"accuracy_graphic.png\")\n",
    "\tplt.show()\n"
   ]
  },
  {
   "cell_type": "code",
   "execution_count": 15,
   "metadata": {
    "collapsed": false
   },
   "outputs": [
    {
     "name": "stdout",
     "output_type": "stream",
     "text": [
      "Total number of weights to evolve is: (29290,)\n",
      "combined_train_imgs shape is : (55000, 28, 28, 3)\n",
      "combined_train_labels shape is : (55000, 10)\n",
      "(10000, 10) (10000, 10)\n",
      "Non-trained NN Test accuracy: 0.0777\n",
      "Step 1.0 : 0.1278048780487805 best: 0.1278048780487805 10\n",
      "It took 27.589369358966955 seconds to complete generation 1\n",
      "Step 2.0 : 0.12390243902439024 best: 0.1278048780487805 10\n",
      "It took 27.292184823816946 seconds to complete generation 2\n",
      "Step 3.0 : 0.1248780487804878 best: 0.1278048780487805 10\n",
      "It took 40.404643047296474 seconds to complete generation 3\n",
      "Step 4.0 : 0.144390243902439 best: 0.144390243902439 10\n",
      "It took 42.35197009838197 seconds to complete generation 4\n",
      "Step 5.0 : 0.12195121951219512 best: 0.144390243902439 10\n",
      "It took 39.80450919136905 seconds to complete generation 5\n",
      "Step 6.0 : 0.1278048780487805 best: 0.144390243902439 10\n",
      "It took 34.38348782360097 seconds to complete generation 6\n",
      "Step 7.0 : 0.10341463414634146 best: 0.144390243902439 10\n",
      "It took 34.19111376257038 seconds to complete generation 7\n",
      "Step 8.0 : 0.13951219512195123 best: 0.144390243902439 10\n",
      "It took 32.99880256678361 seconds to complete generation 8\n",
      "Step 9.0 : 0.13365853658536586 best: 0.144390243902439 10\n",
      "It took 43.32380775209708 seconds to complete generation 9\n",
      "Step 10.0 : 0.12195121951219512 best: 0.144390243902439 10\n",
      "It took 41.32663711572553 seconds to complete generation 10\n",
      "Step 11.0 : 0.13853658536585367 best: 0.144390243902439 10\n",
      "It took 30.38340999044192 seconds to complete generation 11\n",
      "Step 12.0 : 0.1521951219512195 best: 0.1521951219512195 10\n",
      "It took 42.9275420331133 seconds to complete generation 12\n",
      "Step 13.0 : 0.15121951219512195 best: 0.1521951219512195 10\n",
      "It took 42.86835077095452 seconds to complete generation 13\n",
      "Step 14.0 : 0.14634146341463414 best: 0.1521951219512195 10\n",
      "It took 34.470908573835686 seconds to complete generation 14\n",
      "Step 15.0 : 0.16 best: 0.16 10\n",
      "It took 38.21005758370802 seconds to complete generation 15\n",
      "Step 16.0 : 0.16585365853658537 best: 0.16585365853658537 10\n",
      "It took 37.841604817102734 seconds to complete generation 16\n",
      "Step 17.0 : 0.15902439024390244 best: 0.16585365853658537 10\n",
      "It took 41.994209127434715 seconds to complete generation 17\n",
      "Step 18.0 : 0.17073170731707318 best: 0.17073170731707318 10\n",
      "It took 45.910825437758035 seconds to complete generation 18\n",
      "Step 19.0 : 0.17170731707317075 best: 0.17170731707317075 10\n",
      "It took 43.40501040270112 seconds to complete generation 19\n",
      "Step 20.0 : 0.16975609756097562 best: 0.17170731707317075 10\n",
      "It took 33.78649979579484 seconds to complete generation 20\n",
      "Step 21.0 : 0.19317073170731708 best: 0.19317073170731708 10\n",
      "It took 22.5223182307069 seconds to complete generation 21\n",
      "Step 22.0 : 0.20097560975609757 best: 0.20097560975609757 10\n",
      "It took 27.211089086893026 seconds to complete generation 22\n",
      "Step 23.0 : 0.18829268292682927 best: 0.20097560975609757 10\n",
      "It took 32.504118101127574 seconds to complete generation 23\n",
      "Step 24.0 : 0.20195121951219513 best: 0.20195121951219513 10\n",
      "It took 33.79705431428772 seconds to complete generation 24\n",
      "Step 25.0 : 0.2097560975609756 best: 0.2097560975609756 10\n",
      "It took 37.87497899146183 seconds to complete generation 25\n",
      "Step 26.0 : 0.18926829268292683 best: 0.2097560975609756 10\n",
      "It took 44.57958119773264 seconds to complete generation 26\n",
      "Step 27.0 : 0.1902439024390244 best: 0.2097560975609756 10\n",
      "It took 32.11246506595501 seconds to complete generation 27\n",
      "Step 28.0 : 0.21073170731707316 best: 0.21073170731707316 10\n",
      "It took 36.40383606283956 seconds to complete generation 28\n",
      "Step 29.0 : 0.21365853658536585 best: 0.21365853658536585 10\n",
      "It took 44.99741824845444 seconds to complete generation 29\n",
      "Step 30.0 : 0.1873170731707317 best: 0.21365853658536585 10\n",
      "It took 46.3273269227891 seconds to complete generation 30\n",
      "(10000, 10) (10000, 10)\n",
      "Test accuracy: 0.3358\n"
     ]
    },
    {
     "data": {
      "image/png": "[encoded data removed]",
      "text/plain": [
       "<Figure size 432x288 with 1 Axes>"
      ]
     },
     "metadata": {},
     "output_type": "display_data"
    }
   ],
   "source": [
    "if __name__ == '__main__':\n",
    "\t#domain_classcifier()\n",
    "\tclass_classcifier()"
   ]
  },
  {
   "cell_type": "code",
   "execution_count": null,
   "metadata": {
    "collapsed": true
   },
   "outputs": [],
   "source": [
    "def domain_classcifier():\n",
    "\tprint(\"Total number of weights to evolve is:\", weights.shape)\n",
    "\n",
    "\tall_examples_indices = list(range(combined_train_imgs.shape[0]))\n",
    "\n",
    "\tclf, _ = train_classifier(model, combined_train_imgs, combined_train_domain_class)\n",
    "\tprint(\"combined_train_imgs shape is :\", combined_train_imgs.shape)\n",
    "\tprint(\"combined_train_labels shape is :\",combined_train_domain_class.shape)\n",
    "\ty_pred = predict_classifier(model, clf, combined_test_imgs)\n",
    "\tprint(combined_test_domain_class.shape, y_pred.shape)\n",
    "\ttest_accuracy = accuracy_score(combined_test_domain_class, y_pred)\n",
    "\n",
    "\tprint('Non-trained NN Test accuracy:', test_accuracy)\n",
    "\tsnes = SNES(weights, 1, POPULATION_SIZE)\n",
    "\t\n",
    "\tfor i in range(0, GENERATIONS):\n",
    "\t\tstart = timer()\n",
    "\t\tasked = snes.ask()\n",
    "\n",
    "        \t# to be provided back to snes\n",
    "\t\ttold = []\n",
    "        \t# use a small number of training samples for speed purposes\n",
    "\t\tsubsample_indices = np.random.choice(all_examples_indices, size=SAMPLE_SIZE, replace=False)\n",
    "        \t# evaluate on another subset\n",
    "\t\tsubsample_indices_valid = np.random.choice(all_examples_indices, size=SAMPLE_SIZE + 1, replace=False)\n",
    "\t\t#subsample_indices_valid  = mnistm_valid\n",
    "        \t# iterate over the population\n",
    "\t\tfor asked_j in asked:\n",
    "         \t\t# set nn weights\n",
    "\t\t\tnnw.set_weights(asked_j)\n",
    "\t\t\t# train the classifer and get back the predictions on the training data\n",
    "\t\t\tclf, _ = train_classifier(model, combined_train_imgs[subsample_indices], combined_train_domain_class[subsample_indices])\n",
    "\n",
    "\t\t\t# calculate the predictions on a different set\n",
    "\t\t\ty_pred = predict_classifier(model, clf, combined_train_imgs[subsample_indices_valid])\n",
    "\t\t\tscore = accuracy_score(combined_train_domain_class[subsample_indices_valid], y_pred)\n",
    "\n",
    "\t\t\t#clf, _ = train_classifier(model, combined_train_imgs, combined_train_domain_class)\n",
    "\t\t\t#y_pred = predict_classifier(model, clf, combined_test_imgs)\n",
    "\t\t\t#score = accuracy_score(combined_test_domain_class, y_pred)\n",
    "\t\t\t# append to array of values that are to be returned\n",
    "\t\t\ttold.append(score)\n",
    "\n",
    "\t\tsnes.tell(asked, told)\n",
    "\t\tend = timer()\n",
    "\t\tprint(\"It took\", end - start, \"seconds to complete generation\", i + 1)\n",
    "\n",
    "\tnnw.set_weights(snes.center)\n",
    "\n",
    "\tclf, _ = train_classifier(model, combined_train_imgs,combined_train_domain_class)\n",
    "\ty_pred = predict_classifier(model, clf, combined_test_imgs)\n",
    "\n",
    "\tprint(combined_test_domain_class.shape, y_pred.shape)\n",
    "\ttest_accuracy = accuracy_score(combined_test_domain_class, y_pred)\n",
    "\tprint('Test accuracy:', test_accuracy)\n",
    "\tplt.plot(told)\n",
    "\tplt.title(\"loss model\")\n",
    "\tplt.xlabel(\"genaration\")\n",
    "\tplt.ylabel(\"loss_value\")\n",
    "\tplt.legend(\"test\",loc = \"upper left\")\n",
    "\tplt.savefig(\"accuracy_domain_graphic.png\")\n",
    "\tplt.show()\n"
   ]
  },
  {
   "cell_type": "code",
   "execution_count": null,
   "metadata": {
    "collapsed": true
   },
   "outputs": [],
   "source": [
    "if __name__ == '__main__':\n",
    "\tdomain_classcifier()\n"
   ]
  },
  {
   "cell_type": "code",
   "execution_count": null,
   "metadata": {
    "collapsed": true
   },
   "outputs": [],
   "source": []
  }
 ],
 "metadata": {
  "kernelspec": {
   "display_name": "Python 3",
   "language": "python",
   "name": "python3"
  },
  "language_info": {
   "codemirror_mode": {
    "name": "ipython",
    "version": 3
   },
   "file_extension": ".py",
   "mimetype": "text/x-python",
   "name": "python",
   "nbconvert_exporter": "python",
   "pygments_lexer": "ipython3",
   "version": "3.6.3"
  }
 },
 "nbformat": 4,
 "nbformat_minor": 2
}
