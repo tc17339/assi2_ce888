{
 "cells": [
  {
   "cell_type": "code",
   "execution_count": 1,
   "metadata": {
    "collapsed": false
   },
   "outputs": [
    {
     "name": "stdout",
     "output_type": "stream",
     "text": [
      "Extracting MNIST_data/train-images-idx3-ubyte.gz\n",
      "Extracting MNIST_data/train-labels-idx1-ubyte.gz\n",
      "Extracting MNIST_data/t10k-images-idx3-ubyte.gz\n",
      "Extracting MNIST_data/t10k-labels-idx1-ubyte.gz\n",
      "(55000, 28, 28, 1)\n",
      "(55000, 28, 28, 3)\n"
     ]
    }
   ],
   "source": [
    "#%matplotlib inline\n",
    "\n",
    "from __future__ import absolute_import\n",
    "from __future__ import division\n",
    "from __future__ import print_function\n",
    "\n",
    "\n",
    "import tensorflow as tf\n",
    "import numpy as np\n",
    "import pickle as pkl\n",
    "from sklearn.manifold import TSNE\n",
    "\n",
    "from flip_gradient import flip_gradient\n",
    "from utils import *\n",
    "\n",
    "\n",
    "from tensorflow.examples.tutorials.mnist import input_data\n",
    "mnist = input_data.read_data_sets('MNIST_data', one_hot=True)\n",
    "\n",
    "# Process MNIST\n",
    "mnist_train = (mnist.train.images > 0).reshape(55000, 28, 28, 1).astype(np.uint8) * 255\n",
    "print(mnist_train.shape)\n",
    "mnist_train = np.concatenate([mnist_train, mnist_train, mnist_train], 3)\n",
    "mnist_test = (mnist.test.images > 0).reshape(10000, 28, 28, 1).astype(np.uint8) * 255\n",
    "mnist_test = np.concatenate([mnist_test, mnist_test, mnist_test], 3)\n",
    "print(mnist_train.shape)\n",
    "# Load MNIST-M\n",
    "mnistm = pkl.load(open('mnistm_data.pkl',\"rb\"))\n",
    "mnistm_train = mnistm['train']\n",
    "mnistm_test = mnistm['test']\n",
    "mnistm_valid = mnistm['valid']\n",
    "\n",
    "# Compute pixel mean for normalizing data\n",
    "pixel_mean = np.vstack([mnist_train, mnistm_train]).mean((0, 1, 2))\n",
    "\n",
    "# Create a mixed dataset for TSNE visualization\n",
    "num_test = 500\n",
    "combined_test_imgs = np.vstack([mnist_test[:num_test], mnistm_test[:num_test]])\n",
    "combined_test_labels = np.vstack([mnist.test.labels[:num_test], mnist.test.labels[:num_test]])\n",
    "combined_test_domain = np.vstack([np.tile([1., 0.], [num_test, 1]),\n",
    "        np.tile([0., 1.], [num_test, 1])])\n"
   ]
  },
  {
   "cell_type": "code",
   "execution_count": 16,
   "metadata": {
    "collapsed": false
   },
   "outputs": [
    {
     "name": "stdout",
     "output_type": "stream",
     "text": [
      "(10000, 28, 28, 3)\n"
     ]
    }
   ],
   "source": [
    "#imshow_grid(mnist_train)\n",
    "#imshow_grid(mnist_test)\n",
    "#imshow_grid(mnistm_train[:,: ,: ])\n",
    "#imshow_grid(mnist_train)\n",
    "print(mnist_test.shape)"
   ]
  },
  {
   "cell_type": "code",
   "execution_count": 17,
   "metadata": {
    "collapsed": false
   },
   "outputs": [
    {
     "name": "stdout",
     "output_type": "stream",
     "text": [
      "(55000, 10)\n",
      "(1000, 28, 28, 3)\n"
     ]
    }
   ],
   "source": [
    "#mnistm_train = mnistm_train.reshape(55000*3,28,28,1)\n",
    "#mnistm_valid = mnistm_valid.reshape(5000*3,28,28,1)\n",
    "print(mnist.train.labels.shape)\n",
    "print(combined_test_imgs.shape)"
   ]
  },
  {
   "cell_type": "code",
   "execution_count": 4,
   "metadata": {
    "collapsed": false
   },
   "outputs": [
    {
     "data": {
      "image/png": "[encoded data removed]",
      "text/plain": [
       "<Figure size 432x288 with 32 Axes>"
      ]
     },
     "metadata": {},
     "output_type": "display_data"
    },
    {
     "name": "stdout",
     "output_type": "stream",
     "text": [
      "(55000, 28, 28, 3)\n"
     ]
    }
   ],
   "source": [
    "imshow_grid(mnist_train)\n",
    "print(mnist_train.shape)"
   ]
  },
  {
   "cell_type": "code",
   "execution_count": null,
   "metadata": {
    "collapsed": false
   },
   "outputs": [],
   "source": [
    "batch_size = 64\n",
    "\n",
    "class MNISTModel(object):\n",
    "    \"\"\"Simple MNIST domain adaptation model.\"\"\"\n",
    "    def __init__(self):\n",
    "        self._build_model()\n",
    "    \n",
    "    def _build_model(self):\n",
    "        \n",
    "        self.X = tf.placeholder(tf.uint8, [None, 28, 28, 3])\n",
    "        self.y = tf.placeholder(tf.float32, [None, 10])\n",
    "        self.domain = tf.placeholder(tf.float32, [None, 2])\n",
    "        self.l = tf.placeholder(tf.float32, [])\n",
    "        self.train = tf.placeholder(tf.bool, [])\n",
    "        \n",
    "        X_input = (tf.cast(self.X, tf.float32) - pixel_mean) / 255.\n",
    "        \n",
    "        # CNN model for feature extraction\n",
    "        with tf.variable_scope('feature_extractor'):\n",
    "\n",
    "            W_conv0 = weight_variable([5, 5, 3, 32])\n",
    "            b_conv0 = bias_variable([32])\n",
    "            h_conv0 = tf.nn.relu(conv2d(X_input, W_conv0) + b_conv0)\n",
    "            h_pool0 = max_pool_2x2(h_conv0)\n",
    "            \n",
    "            W_conv1 = weight_variable([5, 5, 32, 48])\n",
    "            b_conv1 = bias_variable([48])\n",
    "            h_conv1 = tf.nn.relu(conv2d(h_pool0, W_conv1) + b_conv1)\n",
    "            h_pool1 = max_pool_2x2(h_conv1)\n",
    "            \n",
    "            # The domain-invariant feature\n",
    "            self.feature = tf.reshape(h_pool1, [-1, 7*7*48])\n",
    "    \n",
    "            \n",
    "        # MLP for class prediction\n",
    "        with tf.variable_scope('label_predictor'):\n",
    "            \n",
    "            # Switches to route target examples (second half of batch) differently\n",
    "            # depending on train or test mode.\n",
    "            all_features = lambda: self.feature\n",
    "            source_features = lambda: tf.slice(self.feature, [0, 0], [batch_size // 2, -1])\n",
    "            classify_feats = tf.cond(self.train, source_features, all_features)\n",
    "            \n",
    "            all_labels = lambda: self.y\n",
    "            source_labels = lambda: tf.slice(self.y, [0, 0], [batch_size // 2, -1])\n",
    "            self.classify_labels = tf.cond(self.train, source_labels, all_labels)\n",
    "            \n",
    "            W_fc0 = weight_variable([7 * 7 * 48, 100])\n",
    "            b_fc0 = bias_variable([100])\n",
    "            h_fc0 = tf.nn.relu(tf.matmul(classify_feats, W_fc0) + b_fc0)\n",
    "\n",
    "            W_fc1 = weight_variable([100, 100])\n",
    "            b_fc1 = bias_variable([100])\n",
    "            h_fc1 = tf.nn.relu(tf.matmul(h_fc0, W_fc1) + b_fc1)\n",
    "\n",
    "            W_fc2 = weight_variable([100, 10])\n",
    "            b_fc2 = bias_variable([10])\n",
    "            logits = tf.matmul(h_fc1, W_fc2) + b_fc2\n",
    "            \n",
    "            self.pred = tf.nn.softmax(logits)\n",
    "            self.pred_loss = tf.nn.softmax_cross_entropy_with_logits(logits=logits, labels=self.classify_labels)\n",
    "\n",
    "        # Small MLP for domain prediction with adversarial loss\n",
    "        with tf.variable_scope('domain_predictor'):\n",
    "            \n",
    "            # Flip the gradient when backpropagating through this operation\n",
    "            feat = flip_gradient(self.feature, self.l)\n",
    "            \n",
    "            d_W_fc0 = weight_variable([7 * 7 * 48, 100])\n",
    "            d_b_fc0 = bias_variable([100])\n",
    "            d_h_fc0 = tf.nn.relu(tf.matmul(feat, d_W_fc0) + d_b_fc0)\n",
    "            \n",
    "            d_W_fc1 = weight_variable([100, 2])\n",
    "            d_b_fc1 = bias_variable([2])\n",
    "            d_logits = tf.matmul(d_h_fc0, d_W_fc1) + d_b_fc1\n",
    "            \n",
    "            self.domain_pred = tf.nn.softmax(d_logits)\n",
    "            self.domain_loss = tf.nn.softmax_cross_entropy_with_logits(logits=d_logits, labels=self.domain)\n"
   ]
  },
  {
   "cell_type": "code",
   "execution_count": null,
   "metadata": {
    "collapsed": false
   },
   "outputs": [],
   "source": [
    "# Build the model graph\n",
    "graph = tf.get_default_graph()\n",
    "with graph.as_default():\n",
    "    model = MNISTModel()\n",
    "    \n",
    "    learning_rate = tf.placeholder(tf.float32, [])\n",
    "    \n",
    "    pred_loss = tf.reduce_mean(model.pred_loss)\n",
    "    domain_loss = tf.reduce_mean(model.domain_loss)\n",
    "    total_loss = pred_loss + domain_loss\n",
    "\n",
    "    regular_train_op = tf.train.MomentumOptimizer(learning_rate, 0.9).minimize(pred_loss)\n",
    "    dann_train_op = tf.train.MomentumOptimizer(learning_rate, 0.9).minimize(total_loss)\n",
    "    \n",
    "    # Evaluation\n",
    "    correct_label_pred = tf.equal(tf.argmax(model.classify_labels, 1), tf.argmax(model.pred, 1))\n",
    "    label_acc = tf.reduce_mean(tf.cast(correct_label_pred, tf.float32))\n",
    "    correct_domain_pred = tf.equal(tf.argmax(model.domain, 1), tf.argmax(model.domain_pred, 1))\n",
    "    domain_acc = tf.reduce_mean(tf.cast(correct_domain_pred, tf.float32))\n"
   ]
  },
  {
   "cell_type": "code",
   "execution_count": null,
   "metadata": {
    "collapsed": false
   },
   "outputs": [],
   "source": [
    "def train_and_evaluate(training_mode, graph, model, num_steps=8600, verbose=False):\n",
    "    \"\"\"Helper to run the model with different training modes.\"\"\"\n",
    "\n",
    "    with tf.Session(graph=graph) as sess:\n",
    "        tf.global_variables_initializer().run()\n",
    "\n",
    "        # Batch generators\n",
    "        gen_source_batch = batch_generator(\n",
    "            [mnist_train, mnist.train.labels], batch_size // 2)\n",
    "        gen_target_batch = batch_generator(\n",
    "            [mnistm_train, mnist.train.labels], batch_size // 2)\n",
    "        gen_source_only_batch = batch_generator(\n",
    "            [mnist_train, mnist.train.labels], batch_size)\n",
    "        gen_target_only_batch = batch_generator(\n",
    "            [mnistm_train, mnist.train.labels], batch_size)\n",
    "\n",
    "        domain_labels = np.vstack([np.tile([1., 0.], [batch_size // 2, 1]),\n",
    "                                   np.tile([0., 1.], [batch_size // 2, 1])])\n",
    "\n",
    "        # Training loop\n",
    "        for i in range(num_steps):\n",
    "            \n",
    "            # Adaptation param and learning rate schedule as described in the paper\n",
    "            p = float(i) / num_steps\n",
    "            l = 2. / (1. + np.exp(-10. * p)) - 1\n",
    "            lr = 0.01 / (1. + 10 * p)**0.75\n",
    "\n",
    "            # Training step\n",
    "            if training_mode == 'dann':\n",
    "\n",
    "                X0, y0 = next(gen_source_batch)\n",
    "                X1, y1 = next(gen_target_batch)\n",
    "                X = np.vstack([X0, X1])\n",
    "                y = np.vstack([y0, y1])\n",
    "\n",
    "                _, batch_loss, dloss, ploss, d_acc, p_acc = sess.run(\n",
    "                    [dann_train_op, total_loss, domain_loss, pred_loss, domain_acc, label_acc],\n",
    "                    feed_dict={model.X: X, model.y: y, model.domain: domain_labels,\n",
    "                               model.train: True, model.l: l, learning_rate: lr})\n",
    "\n",
    "                if verbose and i % 100 == 0:\n",
    "                    print('loss: {}  d_acc: {}  p_acc: {}  p: {}  l: {}  lr: {}'.format(\n",
    "                            batch_loss, d_acc, p_acc, p, l, lr))\n",
    "\n",
    "            elif training_mode == 'source':\n",
    "                X, y = next(gen_source_only_batch)\n",
    "                _, batch_loss = sess.run([regular_train_op, pred_loss],\n",
    "                                     feed_dict={model.X: X, model.y: y, model.train: False,\n",
    "                                                model.l: l, learning_rate: lr})\n",
    "\n",
    "            elif training_mode == 'target':\n",
    "                X, y = next(gen_target_only_batch)\n",
    "                _, batch_loss = sess.run([regular_train_op, pred_loss],\n",
    "                                     feed_dict={model.X: X, model.y: y, model.train: False,\n",
    "                                                model.l: l, learning_rate: lr})\n",
    "\n",
    "        # Compute final evaluation on test data\n",
    "        source_acc = sess.run(label_acc,\n",
    "                            feed_dict={model.X: mnist_test, model.y: mnist.test.labels,\n",
    "                                       model.train: False})\n",
    "\n",
    "        target_acc = sess.run(label_acc,\n",
    "                            feed_dict={model.X: mnistm_test, model.y: mnist.test.labels,\n",
    "                                       model.train: False})\n",
    "        \n",
    "        test_domain_acc = sess.run(domain_acc,\n",
    "                            feed_dict={model.X: combined_test_imgs,\n",
    "                                       model.domain: combined_test_domain, model.l: 1.0})\n",
    "        \n",
    "        test_emb = sess.run(model.feature, feed_dict={model.X: combined_test_imgs})\n",
    "        \n",
    "    return source_acc, target_acc, test_domain_acc, test_emb\n",
    "\n",
    "\n",
    "print('\\nSource only training')\n",
    "source_acc, target_acc, _, source_only_emb = train_and_evaluate('source', graph, model)\n",
    "print('Source (MNIST) accuracy:', source_acc)\n",
    "print('Target (MNIST-M) accuracy:', target_acc)\n",
    "\n",
    "print('\\nDomain adaptation training')\n",
    "source_acc, target_acc, d_acc, dann_emb = train_and_evaluate('dann', graph, model)\n",
    "print('Source (MNIST) accuracy:', source_acc)\n",
    "print('Target (MNIST-M) accuracy:', target_acc)\n",
    "print('Domain accuracy:', d_acc)"
   ]
  },
  {
   "cell_type": "code",
   "execution_count": null,
   "metadata": {
    "collapsed": true
   },
   "outputs": [],
   "source": [
    "tsne = TSNE(perplexity=30, n_components=2, init='pca', n_iter=3000)\n",
    "source_only_tsne = tsne.fit_transform(source_only_emb)\n",
    "\n",
    "tsne = TSNE(perplexity=30, n_components=2, init='pca', n_iter=3000)\n",
    "dann_tsne = tsne.fit_transform(dann_emb)\n",
    "        \n",
    "plot_embedding(source_only_tsne, combined_test_labels.argmax(1), combined_test_domain.argmax(1), 'Source only')\n",
    "plot_embedding(dann_tsne, combined_test_labels.argmax(1), combined_test_domain.argmax(1), 'Domain Adaptation')"
   ]
  }
 ],
 "metadata": {
  "kernelspec": {
   "display_name": "Python 3",
   "language": "python",
   "name": "python3"
  },
  "language_info": {
   "codemirror_mode": {
    "name": "ipython",
    "version": 3
   },
   "file_extension": ".py",
   "mimetype": "text/x-python",
   "name": "python",
   "nbconvert_exporter": "python",
   "pygments_lexer": "ipython3",
   "version": "3.6.3"
  }
 },
 "nbformat": 4,
 "nbformat_minor": 1
}
