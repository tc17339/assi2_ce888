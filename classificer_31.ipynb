{
 "cells": [
  {
   "cell_type": "code",
   "execution_count": 1,
   "metadata": {
    "collapsed": false
   },
   "outputs": [
    {
     "name": "stderr",
     "output_type": "stream",
     "text": [
      "/home/river/.local/lib/python3.6/site-packages/h5py/__init__.py:36: FutureWarning: Conversion of the second argument of issubdtype from `float` to `np.floating` is deprecated. In future, it will be treated as `np.float64 == np.dtype(float).type`.\n",
      "  from ._conv import register_converters as _register_converters\n",
      "Using TensorFlow backend.\n"
     ]
    }
   ],
   "source": [
    "from keras.preprocessing.image import ImageDataGenerator\n",
    "from keras.models import Sequential\n",
    "from keras.layers import Conv2D, MaxPooling2D\n",
    "from keras.layers import Activation, Dropout, Flatten, Dense\n",
    "from keras import backend as K"
   ]
  },
  {
   "cell_type": "code",
   "execution_count": 2,
   "metadata": {
    "collapsed": false
   },
   "outputs": [],
   "source": [
    "from timeit import default_timer as timer\n",
    "\n",
    "import numpy as np\n",
    "from sklearn.ensemble import ExtraTreesClassifier, RandomForestClassifier\n",
    "from sklearn.tree import DecisionTreeClassifier\n",
    "from sklearn.metrics import accuracy_score, confusion_matrix\n",
    "from keras.utils import to_categorical\n",
    "from keras_helper import NNWeightHelper\n",
    "from keras.preprocessing.image import array_to_img, img_to_array, load_img\n",
    "from snes import SNES\n",
    "from numpy import argmax\n",
    "import matplotlib.pyplot as plt\n",
    "import matplotlib.cm as cm\n",
    "import math"
   ]
  },
  {
   "cell_type": "code",
   "execution_count": 3,
   "metadata": {
    "collapsed": true
   },
   "outputs": [],
   "source": [
    "amazon_path = \"/home/river/assi2_ce888/Offical31_datasets/amazon/images\"\n",
    "dslr_path = \"/home/river/assi2_ce888/Offical31_datasets/dslr/images\"\n",
    "webcam_path = \"/home/river/assi2_ce888/Offical31_datasets/webcam/images\""
   ]
  },
  {
   "cell_type": "code",
   "execution_count": 4,
   "metadata": {
    "collapsed": true
   },
   "outputs": [],
   "source": [
    "img_width, img_height = 28, 28\n",
    "train_data_dir = amazon_path\n",
    "\n",
    "validation_data_dir = webcam_path"
   ]
  },
  {
   "cell_type": "code",
   "execution_count": 5,
   "metadata": {
    "collapsed": false
   },
   "outputs": [],
   "source": [
    "\n",
    "epochs = 30\n",
    "batch_size = 150\n",
    "if K.image_data_format() == 'channels_first':\n",
    "    input_shape = (3, img_width, img_height)\n",
    "else:\n",
    "    input_shape = (img_width, img_height, 3)\n"
   ]
  },
  {
   "cell_type": "code",
   "execution_count": 6,
   "metadata": {
    "collapsed": false
   },
   "outputs": [],
   "source": [
    "model = Sequential()\n",
    "model.add(Conv2D(32, (3, 3), input_shape=input_shape,activation = \"relu\"))\n",
    "model.add(MaxPooling2D(pool_size=(2, 2)))\n",
    "\n",
    "model.add(Conv2D(32, (3, 3),activation = \"relu\"))\n",
    "model.add(MaxPooling2D(pool_size=(2, 2)))\n",
    "\n",
    "model.add(Conv2D(64, (3, 3),activation = \"relu\"))\n",
    "model.add(MaxPooling2D(pool_size=(2, 2)))\n",
    "\n",
    "model.add(Flatten())\n",
    "model.add(Dense(64,activation=\"relu\"))\n",
    "model.add(Dropout(0.5))\n",
    "model.add(Dense(31, activation=\"relu\"))"
   ]
  },
  {
   "cell_type": "code",
   "execution_count": 7,
   "metadata": {
    "collapsed": false
   },
   "outputs": [],
   "source": [
    "model.compile(loss = \"mean_squared_error\",\n",
    "              optimizer='adam',\n",
    "              metrics=['accuracy'])"
   ]
  },
  {
   "cell_type": "code",
   "execution_count": 8,
   "metadata": {
    "collapsed": false
   },
   "outputs": [
    {
     "name": "stdout",
     "output_type": "stream",
     "text": [
      "Found 2817 images belonging to 31 classes.\n",
      "Found 530 images belonging to 21 classes.\n"
     ]
    }
   ],
   "source": [
    "train_datagen = ImageDataGenerator(\n",
    "    rescale=1. / 255,\n",
    "    shear_range=0.2,\n",
    "    zoom_range=0.2,\n",
    "    horizontal_flip=True)\n",
    "\n",
    "# this is the augmentation configuration we will use for testing:\n",
    "# only rescaling\n",
    "test_datagen = ImageDataGenerator(rescale=1. / 255)\n",
    "\n",
    "train_generator = train_datagen.flow_from_directory(\n",
    "    train_data_dir,\n",
    "    #save_to_dir= \"/home/river/assi2_ce888/Offical31_datasets/save_pic1\",\n",
    "    target_size=(img_width, img_height),\n",
    "    #color_mode = \"grayscale\",\n",
    "    batch_size=batch_size,\n",
    "    class_mode='categorical')\n",
    "\n",
    "validation_generator = test_datagen.flow_from_directory(\n",
    "    validation_data_dir,\n",
    "    target_size=(img_width, img_height),\n",
    "    #color_mode =\"grayscale\",\n",
    "    batch_size=batch_size,\n",
    "    class_mode='categorical')"
   ]
  },
  {
   "cell_type": "code",
   "execution_count": 9,
   "metadata": {
    "collapsed": false
   },
   "outputs": [],
   "source": [
    "train_imgs, train1_labels= next(train_generator)\n",
    "test_imgs, test1_labels =next(validation_generator) "
   ]
  },
  {
   "cell_type": "code",
   "execution_count": 10,
   "metadata": {
    "collapsed": true
   },
   "outputs": [],
   "source": [
    "nb_train_samples = len(train_generator.filenames)\n",
    "nb_validation_samples= len(validation_generator.filenames)"
   ]
  },
  {
   "cell_type": "code",
   "execution_count": 11,
   "metadata": {
    "collapsed": false
   },
   "outputs": [],
   "source": [
    "#shapes_labels=train_generator.class_indices\n",
    "#shapes_test= validation_generator.class_indices"
   ]
  },
  {
   "cell_type": "code",
   "execution_count": 12,
   "metadata": {
    "collapsed": true
   },
   "outputs": [],
   "source": [
    "train_labels = np.zeros((train1_labels.shape[0],), dtype = float)\n",
    "for i in range(train1_labels.shape[0]):\n",
    "    train_labels[i] = argmax(train1_labels[i])"
   ]
  },
  {
   "cell_type": "code",
   "execution_count": 13,
   "metadata": {
    "collapsed": false
   },
   "outputs": [],
   "source": [
    "test_labels = np.zeros((test1_labels.shape[0],), dtype = float)\n",
    "for i in range(test1_labels.shape[0]):\n",
    "    test_labels[i] = argmax(test1_labels[i])"
   ]
  },
  {
   "cell_type": "code",
   "execution_count": 14,
   "metadata": {
    "collapsed": false
   },
   "outputs": [],
   "source": [
    "#model.fit_generator(\n",
    "    #train_generator,\n",
    "    #steps_per_epoch=nb_train_samples // batch_size,\n",
    "    #epochs=epochs,\n",
    "    #validation_data=validation_generator,\n",
    "    #validation_steps=nb_validation_samples // batch_size)\n"
   ]
  },
  {
   "cell_type": "code",
   "execution_count": 15,
   "metadata": {
    "collapsed": false
   },
   "outputs": [],
   "source": [
    "#score ,acc= model.evaluate_generator(validation_generator, nb_validation_samples // batch_size)\n"
   ]
  },
  {
   "cell_type": "code",
   "execution_count": 16,
   "metadata": {
    "collapsed": false
   },
   "outputs": [],
   "source": [
    "#SAMPLE_SIZE = 1024\n",
    "#SAMPLE_SIZE = int(math.ceil(nb_train_samples / batch_size))\n",
    "SAMPLE_SIZE = 8\n",
    "# how many different sets of weights ask() should return for evaluation\n",
    "POPULATION_SIZE = 10\n",
    "# how many times we will loop over ask()/tell()\n",
    "GENERATIONS = 50\n",
    "\n",
    "def train_classifier(model, X,y):\n",
    "    #History= model.predict_generator(X, steps= 177)\n",
    "    #X_features = History.history\n",
    "    X_features = model.predict(X)\n",
    "    #clf = ExtraTreesClassifier(n_estimators=100, n_jobs=4)\n",
    "    #clf = DecisionTreeClassifier()\n",
    "    clf = RandomForestClassifier(n_estimators=100, n_jobs=4)\n",
    "\n",
    "    clf.fit(X_features,y)\n",
    "    y_pred = clf.predict(X_features)\n",
    "    return clf, y_pred\n",
    "\n",
    "\n",
    "def predict_classifier(model, clf, X):\n",
    "    #X_features = model.predict_generator(X,steps = 177)\n",
    "    X_features = model.predict(X)\n",
    "    return clf.predict(X_features)"
   ]
  },
  {
   "cell_type": "code",
   "execution_count": 17,
   "metadata": {
    "collapsed": true
   },
   "outputs": [],
   "source": [
    "nnw = NNWeightHelper(model)\n",
    "weights = nnw.get_weights()"
   ]
  },
  {
   "cell_type": "code",
   "execution_count": 18,
   "metadata": {
    "collapsed": false
   },
   "outputs": [
    {
     "name": "stdout",
     "output_type": "stream",
     "text": [
      "Total number of weights to evolve is: (34815,)\n",
      "train_imgs shape is : (150, 28, 28, 3)\n",
      "train-labels shape is : (150,)\n",
      "(150,) (150,)\n",
      "Non-trained NN Test accuracy: 0.11333333333333333\n"
     ]
    }
   ],
   "source": [
    "print(\"Total number of weights to evolve is:\", weights.shape)\n",
    "\n",
    "all_examples_indices = list(range(train_imgs.shape[0]))\n",
    "clf, _ = train_classifier(model, train_imgs,train_labels)\n",
    "#clf, _ = train_classifier(model, train_imgs,train_labels)\n",
    "print(\"train_imgs shape is :\", train_imgs.shape)\n",
    "print(\"train-labels shape is :\",train_labels.shape)\n",
    "y_pred = predict_classifier(model, clf, test_imgs)\n",
    "\n",
    "#y_pred = predict_classifier(model, clf, test_imgs)\n",
    "\n",
    "print(test_labels.shape, y_pred.shape)\n",
    "test_accuracy = accuracy_score(test_labels, y_pred)\n",
    "\n",
    "print('Non-trained NN Test accuracy:', test_accuracy)"
   ]
  },
  {
   "cell_type": "code",
   "execution_count": 19,
   "metadata": {
    "collapsed": true
   },
   "outputs": [],
   "source": [
    "snes  = SNES(weights, 1 , POPULATION_SIZE)"
   ]
  },
  {
   "cell_type": "code",
   "execution_count": 20,
   "metadata": {
    "collapsed": false
   },
   "outputs": [
    {
     "name": "stdout",
     "output_type": "stream",
     "text": [
      "Step 1.0 : 0.3333333333333333 best: 0.3333333333333333 10\n",
      "It took 4.1626681109992205 seconds to complete generation 1\n",
      "Step 2.0 : 0.1111111111111111 best: 0.3333333333333333 10\n",
      "It took 4.231747063999137 seconds to complete generation 2\n",
      "Step 3.0 : 0.1111111111111111 best: 0.3333333333333333 10\n",
      "It took 4.144700863000253 seconds to complete generation 3\n",
      "Step 4.0 : 0.1111111111111111 best: 0.3333333333333333 10\n",
      "It took 4.153686272000414 seconds to complete generation 4\n",
      "Step 5.0 : 0.1111111111111111 best: 0.3333333333333333 10\n",
      "It took 4.147447782999734 seconds to complete generation 5\n",
      "Step 6.0 : 0.2222222222222222 best: 0.3333333333333333 10\n",
      "It took 4.133296437999888 seconds to complete generation 6\n",
      "Step 7.0 : 0.0 best: 0.3333333333333333 10\n",
      "It took 4.16521648899834 seconds to complete generation 7\n",
      "Step 8.0 : 0.0 best: 0.3333333333333333 10\n",
      "It took 4.163810324000224 seconds to complete generation 8\n",
      "Step 9.0 : 0.0 best: 0.3333333333333333 10\n",
      "It took 4.137488413000028 seconds to complete generation 9\n",
      "Step 10.0 : 0.1111111111111111 best: 0.3333333333333333 10\n",
      "It took 4.150671043998955 seconds to complete generation 10\n",
      "Step 11.0 : 0.3333333333333333 best: 0.3333333333333333 10\n",
      "It took 4.155918862001272 seconds to complete generation 11\n",
      "Step 12.0 : 0.2222222222222222 best: 0.3333333333333333 10\n",
      "It took 4.1599264230007975 seconds to complete generation 12\n",
      "Step 13.0 : 0.2222222222222222 best: 0.3333333333333333 10\n",
      "It took 4.1462970829998085 seconds to complete generation 13\n",
      "Step 14.0 : 0.2222222222222222 best: 0.3333333333333333 10\n",
      "It took 4.180078411000068 seconds to complete generation 14\n",
      "Step 15.0 : 0.0 best: 0.3333333333333333 10\n",
      "It took 4.168474875999891 seconds to complete generation 15\n",
      "Step 16.0 : 0.1111111111111111 best: 0.3333333333333333 10\n",
      "It took 4.1624896049997915 seconds to complete generation 16\n",
      "Step 17.0 : 0.1111111111111111 best: 0.3333333333333333 10\n",
      "It took 4.174288791999061 seconds to complete generation 17\n",
      "Step 18.0 : 0.1111111111111111 best: 0.3333333333333333 10\n",
      "It took 4.150163520998831 seconds to complete generation 18\n",
      "Step 19.0 : 0.4444444444444444 best: 0.4444444444444444 10\n",
      "It took 4.152885474000868 seconds to complete generation 19\n",
      "Step 20.0 : 0.2222222222222222 best: 0.4444444444444444 10\n",
      "It took 4.160712657998374 seconds to complete generation 20\n",
      "Step 21.0 : 0.1111111111111111 best: 0.4444444444444444 10\n",
      "It took 4.152353456000128 seconds to complete generation 21\n",
      "Step 22.0 : 0.0 best: 0.4444444444444444 10\n",
      "It took 4.172507732999293 seconds to complete generation 22\n",
      "Step 23.0 : 0.1111111111111111 best: 0.4444444444444444 10\n",
      "It took 4.167589829999997 seconds to complete generation 23\n",
      "Step 24.0 : 0.3333333333333333 best: 0.4444444444444444 10\n",
      "It took 4.161713221001264 seconds to complete generation 24\n",
      "Step 25.0 : 0.1111111111111111 best: 0.4444444444444444 10\n",
      "It took 4.163764087001255 seconds to complete generation 25\n",
      "Step 26.0 : 0.1111111111111111 best: 0.4444444444444444 10\n",
      "It took 4.153011355001581 seconds to complete generation 26\n",
      "Step 27.0 : 0.3333333333333333 best: 0.4444444444444444 10\n",
      "It took 4.212434795999798 seconds to complete generation 27\n",
      "Step 28.0 : 0.3333333333333333 best: 0.4444444444444444 10\n",
      "It took 4.168771196000307 seconds to complete generation 28\n",
      "Step 29.0 : 0.2222222222222222 best: 0.4444444444444444 10\n",
      "It took 4.223648473000139 seconds to complete generation 29\n",
      "Step 30.0 : 0.2222222222222222 best: 0.4444444444444444 10\n",
      "It took 4.186549029000162 seconds to complete generation 30\n",
      "Step 31.0 : 0.1111111111111111 best: 0.4444444444444444 10\n",
      "It took 4.198462866999762 seconds to complete generation 31\n",
      "Step 32.0 : 0.1111111111111111 best: 0.4444444444444444 10\n",
      "It took 4.165848365999409 seconds to complete generation 32\n",
      "Step 33.0 : 0.4444444444444444 best: 0.4444444444444444 10\n",
      "It took 4.144017022999833 seconds to complete generation 33\n",
      "Step 34.0 : 0.1111111111111111 best: 0.4444444444444444 10\n",
      "It took 4.197203231999083 seconds to complete generation 34\n",
      "Step 35.0 : 0.3333333333333333 best: 0.4444444444444444 10\n",
      "It took 4.147965385998759 seconds to complete generation 35\n",
      "Step 36.0 : 0.2222222222222222 best: 0.4444444444444444 10\n",
      "It took 4.163084235999122 seconds to complete generation 36\n",
      "Step 37.0 : 0.1111111111111111 best: 0.4444444444444444 10\n",
      "It took 4.18190788100037 seconds to complete generation 37\n",
      "Step 38.0 : 0.1111111111111111 best: 0.4444444444444444 10\n",
      "It took 4.182908218999728 seconds to complete generation 38\n",
      "Step 39.0 : 0.3333333333333333 best: 0.4444444444444444 10\n",
      "It took 4.156377868001073 seconds to complete generation 39\n",
      "Step 40.0 : 0.3333333333333333 best: 0.4444444444444444 10\n",
      "It took 4.136015156000212 seconds to complete generation 40\n",
      "Step 41.0 : 0.1111111111111111 best: 0.4444444444444444 10\n",
      "It took 4.179366579999623 seconds to complete generation 41\n",
      "Step 42.0 : 0.0 best: 0.4444444444444444 10\n",
      "It took 4.183909122000841 seconds to complete generation 42\n",
      "Step 43.0 : 0.3333333333333333 best: 0.4444444444444444 10\n",
      "It took 4.222631927999828 seconds to complete generation 43\n",
      "Step 44.0 : 0.0 best: 0.4444444444444444 10\n",
      "It took 4.201123868999275 seconds to complete generation 44\n",
      "Step 45.0 : 0.2222222222222222 best: 0.4444444444444444 10\n",
      "It took 4.161561430999427 seconds to complete generation 45\n",
      "Step 46.0 : 0.1111111111111111 best: 0.4444444444444444 10\n",
      "It took 4.225766804000159 seconds to complete generation 46\n",
      "Step 47.0 : 0.2222222222222222 best: 0.4444444444444444 10\n",
      "It took 4.20743527400009 seconds to complete generation 47\n",
      "Step 48.0 : 0.0 best: 0.4444444444444444 10\n",
      "It took 4.144896435000192 seconds to complete generation 48\n",
      "Step 49.0 : 0.2222222222222222 best: 0.4444444444444444 10\n",
      "It took 4.1696255750011915 seconds to complete generation 49\n",
      "Step 50.0 : 0.2222222222222222 best: 0.4444444444444444 10\n",
      "It took 4.205043731999467 seconds to complete generation 50\n",
      "(150,) (150,)\n",
      "Test accuracy: 0.05333333333333334\n"
     ]
    },
    {
     "data": {
      "image/png": "[encoded data removed]",
      "text/plain": [
       "<Figure size 432x288 with 1 Axes>"
      ]
     },
     "metadata": {},
     "output_type": "display_data"
    }
   ],
   "source": [
    "for i in range(0, GENERATIONS):\n",
    "    start = timer()\n",
    "    asked = snes.ask()\n",
    "    \n",
    "    told = []\n",
    "    subsample_indices  = np.random.choice(all_examples_indices, size= SAMPLE_SIZE,replace = False )\n",
    "    subsample_indices_valid = np.random.choice(all_examples_indices,size=SAMPLE_SIZE+1, replace = False)\n",
    "    for asked_j in asked:\n",
    "        nnw.set_weights(asked_j)\n",
    "        clf, _ = train_classifier(model, train_imgs[subsample_indices], train_labels[subsample_indices])\n",
    "        \n",
    "        y_pred = predict_classifier(model, clf, train_imgs[subsample_indices_valid])\n",
    "        score = accuracy_score(train_labels[subsample_indices_valid], y_pred)\n",
    "        \n",
    "        \n",
    "        # clf, _ = train_classifier(model, x_train, y_train)\n",
    "        # y_pred = predict_classifier(model, clf, x_test)\n",
    "        # score = accuracy_score(y_test, y_pred)\n",
    "        # append to array of values that are to be returned\n",
    "        told.append(score)\n",
    "        \n",
    "    snes.tell(asked, told)\n",
    "    end = timer()\n",
    "    print(\"It took\", end - start, \"seconds to complete generation\", i + 1)\n",
    "\n",
    "nnw.set_weights(snes.center)\n",
    "\n",
    "clf, _ = train_classifier(model, train_imgs, train_labels)\n",
    "y_pred = predict_classifier(model, clf, test_imgs)\n",
    "#print(told)\n",
    "\n",
    "print(test_labels.shape, y_pred.shape)\n",
    "test_accuracy = accuracy_score(test_labels, y_pred)\n",
    "print('Test accuracy:', test_accuracy)\n",
    "    \n",
    "plt.plot(told)\n",
    "plt.title(\"loss model\")\n",
    "plt.xlabel(\"genaration\")\n",
    "plt.ylabel(\"loss_value\")\n",
    "plt.legend(\"test\",loc = \"upper left\")\n",
    "#plt.savefig(\"amazon_dslr.png\")\n",
    "plt.show()\n"
   ]
  },
  {
   "cell_type": "code",
   "execution_count": null,
   "metadata": {
    "collapsed": true
   },
   "outputs": [],
   "source": []
  },
  {
   "cell_type": "code",
   "execution_count": null,
   "metadata": {
    "collapsed": true
   },
   "outputs": [],
   "source": []
  }
 ],
 "metadata": {
  "kernelspec": {
   "display_name": "Python 3",
   "language": "python",
   "name": "python3"
  },
  "language_info": {
   "codemirror_mode": {
    "name": "ipython",
    "version": 3
   },
   "file_extension": ".py",
   "mimetype": "text/x-python",
   "name": "python",
   "nbconvert_exporter": "python",
   "pygments_lexer": "ipython3",
   "version": "3.6.3"
  }
 },
 "nbformat": 4,
 "nbformat_minor": 2
}
